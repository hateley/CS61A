{
 "cells": [
  {
   "cell_type": "code",
   "execution_count": 5,
   "metadata": {
    "collapsed": true
   },
   "outputs": [],
   "source": [
    "def is_prime(score):\n",
    "    #print('running_prime')\n",
    "    \"\"\"implements the Hogtimus Prome rule\"\"\"\n",
    "    primes = [2,3,5,7,11,13,17,19,23,29,31,37,41,43,47,53,59,61,67,71,73,79,83,89,97,101]\n",
    "    if score in primes:\n",
    "        prime_index = primes.index(score)\n",
    "        return score, primes[prime_index + 1]\n",
    "    else:\n",
    "        return score"
   ]
  },
  {
   "cell_type": "code",
   "execution_count": 6,
   "metadata": {
    "collapsed": false
   },
   "outputs": [
    {
     "data": {
      "text/plain": [
       "(11, 13)"
      ]
     },
     "execution_count": 6,
     "metadata": {},
     "output_type": "execute_result"
    }
   ],
   "source": [
    "is_prime(11)"
   ]
  },
  {
   "cell_type": "code",
   "execution_count": 7,
   "metadata": {
    "collapsed": false
   },
   "outputs": [
    {
     "ename": "NameError",
     "evalue": "name 'six_sided' is not defined",
     "output_type": "error",
     "traceback": [
      "\u001b[0;31m---------------------------------------------------------------------------\u001b[0m",
      "\u001b[0;31mNameError\u001b[0m                                 Traceback (most recent call last)",
      "\u001b[0;32m<ipython-input-7-48dc2ea0197b>\u001b[0m in \u001b[0;36m<module>\u001b[0;34m()\u001b[0m\n\u001b[1;32m      1\u001b[0m \u001b[0;34m\u001b[0m\u001b[0m\n\u001b[1;32m      2\u001b[0m \u001b[0;34m\u001b[0m\u001b[0m\n\u001b[0;32m----> 3\u001b[0;31m \u001b[0;32mdef\u001b[0m \u001b[0mroll_dice\u001b[0m\u001b[0;34m(\u001b[0m\u001b[0mnum_rolls\u001b[0m\u001b[0;34m,\u001b[0m \u001b[0mdice\u001b[0m\u001b[0;34m=\u001b[0m\u001b[0msix_sided\u001b[0m\u001b[0;34m)\u001b[0m\u001b[0;34m:\u001b[0m\u001b[0;34m\u001b[0m\u001b[0m\n\u001b[0m\u001b[1;32m      4\u001b[0m     \"\"\"Simulate rolling the DICE exactly NUM_ROLLS times. Return the sum of\n\u001b[1;32m      5\u001b[0m     \u001b[0mthe\u001b[0m \u001b[0moutcomes\u001b[0m \u001b[0munless\u001b[0m \u001b[0many\u001b[0m \u001b[0mof\u001b[0m \u001b[0mthe\u001b[0m \u001b[0moutcomes\u001b[0m \u001b[0;32mis\u001b[0m \u001b[0;36m1.\u001b[0m \u001b[0mIn\u001b[0m \u001b[0mthat\u001b[0m \u001b[0mcase\u001b[0m\u001b[0;34m,\u001b[0m \u001b[0;32mreturn\u001b[0m \u001b[0;36m0.\u001b[0m\u001b[0;34m\u001b[0m\u001b[0m\n",
      "\u001b[0;31mNameError\u001b[0m: name 'six_sided' is not defined"
     ]
    }
   ],
   "source": [
    "\n",
    "\n",
    "def roll_dice(num_rolls, dice=six_sided):\n",
    "    \"\"\"Simulate rolling the DICE exactly NUM_ROLLS times. Return the sum of\n",
    "    the outcomes unless any of the outcomes is 1. In that case, return 0.\n",
    "    \"\"\"\n",
    "    # These assert statements ensure that num_rolls is a positive integer.\n",
    "    assert type(num_rolls) == int, 'num_rolls must be an integer.'\n",
    "    assert num_rolls > 0, 'Must roll at least once.'\n",
    "    # BEGIN Question 1\n",
    "    rolls = []\n",
    "    while num_rolls > 0:\n",
    "        rolls.append(dice())\n",
    "        num_rolls -= 1\n",
    "    #Pig Out rule:\n",
    "    if 1 in rolls:\n",
    "        return 0\n",
    "    else:\n",
    "        return sum(rolls)\n",
    "    # END Question 1\n",
    "\n",
    "\n",
    "def take_turn(num_rolls, opponent_score, dice=six_sided):\n",
    "    \"\"\"Simulate a turn rolling NUM_ROLLS dice, which may be 0 (Free bacon).\n",
    "\n",
    "    num_rolls:       The number of dice rolls that will be made.\n",
    "    opponent_score:  The total score of the opponent.\n",
    "    dice:            A function of no args that returns an integer outcome.\n",
    "    \"\"\"\n",
    "    assert type(num_rolls) == int, 'num_rolls must be an integer.'\n",
    "    assert num_rolls >= 0, 'Cannot roll a negative number of dice.'\n",
    "    assert num_rolls <= 10, 'Cannot roll more than 10 dice.'\n",
    "    assert opponent_score < 100, 'The game should be over.'\n",
    "    # BEGIN Question 2\n",
    "    #free bacon rule:\n",
    "    if num_rolls == 0:\n",
    "        opponent_max = max([int(n)for n in str(opponent_score)])\n",
    "        return is_prime(opponent_max+1)\n",
    "    else:\n",
    "        points = roll_dice(num_rolls, dice)\n",
    "        return is_prime(points)"
   ]
  },
  {
   "cell_type": "code",
   "execution_count": null,
   "metadata": {
    "collapsed": true
   },
   "outputs": [],
   "source": []
  }
 ],
 "metadata": {
  "kernelspec": {
   "display_name": "Python 3",
   "language": "python",
   "name": "python3"
  },
  "language_info": {
   "codemirror_mode": {
    "name": "ipython",
    "version": 3
   },
   "file_extension": ".py",
   "mimetype": "text/x-python",
   "name": "python",
   "nbconvert_exporter": "python",
   "pygments_lexer": "ipython3",
   "version": "3.4.3"
  }
 },
 "nbformat": 4,
 "nbformat_minor": 0
}
